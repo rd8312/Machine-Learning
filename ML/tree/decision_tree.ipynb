{
 "cells": [
  {
   "cell_type": "markdown",
   "id": "14aa5626",
   "metadata": {},
   "source": [
    "# Decision Tree\n",
    "- ref: https://medium.com/@penggongting/implementing-decision-tree-from-scratch-in-python-c732e7c69aea"
   ]
  },
  {
   "cell_type": "markdown",
   "id": "c8665382",
   "metadata": {},
   "source": [
    "## Basic function"
   ]
  },
  {
   "cell_type": "code",
   "execution_count": 1,
   "id": "f80f7c75-cd11-49d5-89d7-a0ecc497c78b",
   "metadata": {
    "tags": []
   },
   "outputs": [],
   "source": [
    "from sklearn import datasets\n",
    "from sklearn.model_selection import train_test_split\n",
    "from sklearn.metrics import accuracy_score\n",
    "import numpy as np\n",
    "import math"
   ]
  },
  {
   "cell_type": "code",
   "execution_count": 2,
   "id": "7639ce03-adac-4a8d-8d26-add076ba5331",
   "metadata": {},
   "outputs": [],
   "source": [
    "# entropy \n",
    "def entropy(c, n):\n",
    "    return -(c/n)*math.log(c/n, 2)\n",
    "    # gini index\n",
    "    # return 1-(c/n)**2\n",
    "\n",
    "# Split into two categories based on feature values, calculate entropy for each category, and sum them\n",
    "def entropy_cal(c1, c2):\n",
    "    if c1== 0 or c2 == 0: # avoid log(0) and if c1==0, so c2==n, entropy(c2) = -(c2/n)*log(c2/n) = 0\n",
    "        return 0\n",
    "    return entropy(c1, c1+c2) + entropy(c2, c1+c2)\n",
    "\n",
    "# Split the data based on each category variable, calculate entropy for each category, and sum them\n",
    "def entropy_of_one_division(division):\n",
    "    s = 0\n",
    "    n = len(division)\n",
    "    classes = set(division)\n",
    "    # Calculate the entropy for each category and sum them\n",
    "    for c in classes:   \n",
    "        n_c = sum(division==c)\n",
    "        e = n_c/n * entropy_cal(sum(division==c), sum(division!=c))\n",
    "        s += e\n",
    "    return s, n\n",
    "\n",
    "# Calculate entropy based on the splitting condition\n",
    "def get_entropy(y_predict, y_real):\n",
    "    if len(y_predict) != len(y_real):\n",
    "        print('They have to be the same length')\n",
    "        return None\n",
    "    n = len(y_real)\n",
    "    # left node\n",
    "    s_true, n_true = entropy_of_one_division(y_real[y_predict])\n",
    "    # right node\n",
    "    s_false, n_false = entropy_of_one_division(y_real[~y_predict])\n",
    "    # Weighted sum of left and right nodes\n",
    "    s = n_true/n * s_true + n_false/n * s_false \n",
    "    return s"
   ]
  },
  {
   "cell_type": "markdown",
   "id": "2f2d49a3",
   "metadata": {},
   "source": [
    "## Decision tree algorithm"
   ]
  },
  {
   "cell_type": "code",
   "execution_count": 3,
   "id": "e751c851",
   "metadata": {},
   "outputs": [],
   "source": [
    "class DecisionTreeClassifier(object):\n",
    "    def __init__(self, max_depth=3):\n",
    "        self.depth = 0\n",
    "        self.max_depth = max_depth\n",
    "\n",
    "    # train the model\n",
    "    def fit(self, x, y, par_node={}, depth=0):\n",
    "        if par_node is None: \n",
    "            return None\n",
    "        elif len(y) == 0:\n",
    "            return None\n",
    "        elif self.all_same(y):\n",
    "            return {'val':float(y[0])}\n",
    "        elif depth >= self.max_depth:\n",
    "            return None\n",
    "        else: \n",
    "            # calculate the information gain\n",
    "            col, cutoff, entropy = self.find_best_split_of_all(x, y)\n",
    "            if cutoff is not None:\n",
    "                y_left = y[x[:, col] < cutoff]\n",
    "                y_right = y[x[:, col] >= cutoff]\n",
    "                par_node = {'col': feature_names[col], 'index_col':int(col),\n",
    "                            'cutoff':float(cutoff),\n",
    "                            'val': float(np.round(np.mean(y)))}\n",
    "                par_node['left'] = self.fit(x[x[:, col] < cutoff], y_left, {}, depth+1)\n",
    "                par_node['right'] = self.fit(x[x[:, col] >= cutoff], y_right, {}, depth+1)\n",
    "                self.depth += 1 \n",
    "            self.trees = par_node\n",
    "            return par_node\n",
    "\n",
    "\n",
    "    # compare all the feature value and the threshold to find the best split point\n",
    "    def find_best_split_of_all(self, x, y):\n",
    "        col = None\n",
    "        min_entropy = 1\n",
    "        cutoff = None\n",
    "        for i, c in enumerate(x.T):\n",
    "            entropy, cur_cutoff = self.find_best_split(c, y)\n",
    "            if entropy == 0:    # find the best split point\n",
    "                return i, cur_cutoff, entropy\n",
    "            elif entropy <= min_entropy:\n",
    "                min_entropy = entropy\n",
    "                col = i\n",
    "                cutoff = cur_cutoff\n",
    "        return col, cutoff, min_entropy\n",
    "    \n",
    "    # find the best split point\n",
    "    def find_best_split(self, col, y):\n",
    "        min_entropy = 10\n",
    "        n = len(y)\n",
    "        for value in set(col):\n",
    "            y_predict = col < value\n",
    "            my_entropy = get_entropy(y_predict, y)\n",
    "            if my_entropy < min_entropy:\n",
    "                min_entropy = my_entropy\n",
    "                cutoff = value\n",
    "        return min_entropy, cutoff\n",
    "    \n",
    "    # check if all the values are the same in the node\n",
    "    def all_same(self, items):\n",
    "        return all(x == items[0] for x in items)\n",
    "    \n",
    "    # predict the value\n",
    "    def predict(self, x):\n",
    "        tree = self.trees\n",
    "        results = np.array([0]*len(x))\n",
    "        for i, c in enumerate(x):\n",
    "            try:\n",
    "                results[i] = self._get_prediction(c)\n",
    "            except:\n",
    "                pass\n",
    "        return results\n",
    "    \n",
    "    # get the prediction value\n",
    "    def _get_prediction(self, row):\n",
    "        cur_layer = self.trees\n",
    "        while cur_layer is not None and cur_layer.get('cutoff'):\n",
    "            if row[cur_layer['index_col']] < cur_layer['cutoff']:\n",
    "                cur_layer = cur_layer['left']\n",
    "            else:\n",
    "                cur_layer = cur_layer['right']\n",
    "        else:\n",
    "            return cur_layer.get('val') if cur_layer else None\n",
    "    "
   ]
  },
  {
   "cell_type": "markdown",
   "id": "7bea7669",
   "metadata": {},
   "source": [
    "## Load data"
   ]
  },
  {
   "cell_type": "code",
   "execution_count": 4,
   "id": "ac25ff9c",
   "metadata": {},
   "outputs": [],
   "source": [
    "ds = datasets.load_wine()\n",
    "feature_names = ds.feature_names\n",
    "X, y = ds.data, ds.target"
   ]
  },
  {
   "cell_type": "code",
   "execution_count": 5,
   "id": "6b637c09",
   "metadata": {},
   "outputs": [
    {
     "data": {
      "text/plain": [
       "array([[1.423e+01, 1.710e+00, 2.430e+00, ..., 1.040e+00, 3.920e+00,\n",
       "        1.065e+03],\n",
       "       [1.320e+01, 1.780e+00, 2.140e+00, ..., 1.050e+00, 3.400e+00,\n",
       "        1.050e+03],\n",
       "       [1.316e+01, 2.360e+00, 2.670e+00, ..., 1.030e+00, 3.170e+00,\n",
       "        1.185e+03],\n",
       "       ...,\n",
       "       [1.327e+01, 4.280e+00, 2.260e+00, ..., 5.900e-01, 1.560e+00,\n",
       "        8.350e+02],\n",
       "       [1.317e+01, 2.590e+00, 2.370e+00, ..., 6.000e-01, 1.620e+00,\n",
       "        8.400e+02],\n",
       "       [1.413e+01, 4.100e+00, 2.740e+00, ..., 6.100e-01, 1.600e+00,\n",
       "        5.600e+02]])"
      ]
     },
     "execution_count": 5,
     "metadata": {},
     "output_type": "execute_result"
    }
   ],
   "source": [
    "X"
   ]
  },
  {
   "cell_type": "code",
   "execution_count": 6,
   "id": "18bb56fb",
   "metadata": {},
   "outputs": [
    {
     "data": {
      "text/plain": [
       "array([0, 0, 0, 0, 0, 0, 0, 0, 0, 0, 0, 0, 0, 0, 0, 0, 0, 0, 0, 0, 0, 0,\n",
       "       0, 0, 0, 0, 0, 0, 0, 0, 0, 0, 0, 0, 0, 0, 0, 0, 0, 0, 0, 0, 0, 0,\n",
       "       0, 0, 0, 0, 0, 0, 0, 0, 0, 0, 0, 0, 0, 0, 0, 1, 1, 1, 1, 1, 1, 1,\n",
       "       1, 1, 1, 1, 1, 1, 1, 1, 1, 1, 1, 1, 1, 1, 1, 1, 1, 1, 1, 1, 1, 1,\n",
       "       1, 1, 1, 1, 1, 1, 1, 1, 1, 1, 1, 1, 1, 1, 1, 1, 1, 1, 1, 1, 1, 1,\n",
       "       1, 1, 1, 1, 1, 1, 1, 1, 1, 1, 1, 1, 1, 1, 1, 1, 1, 1, 1, 1, 2, 2,\n",
       "       2, 2, 2, 2, 2, 2, 2, 2, 2, 2, 2, 2, 2, 2, 2, 2, 2, 2, 2, 2, 2, 2,\n",
       "       2, 2, 2, 2, 2, 2, 2, 2, 2, 2, 2, 2, 2, 2, 2, 2, 2, 2, 2, 2, 2, 2,\n",
       "       2, 2])"
      ]
     },
     "execution_count": 6,
     "metadata": {},
     "output_type": "execute_result"
    }
   ],
   "source": [
    "y"
   ]
  },
  {
   "cell_type": "code",
   "execution_count": 7,
   "id": "45c036e4",
   "metadata": {},
   "outputs": [],
   "source": [
    "X_train, X_test, y_train, y_test = train_test_split(X, y, test_size=.2)"
   ]
  },
  {
   "cell_type": "markdown",
   "id": "0674069b",
   "metadata": {},
   "source": [
    "## Model training"
   ]
  },
  {
   "cell_type": "code",
   "execution_count": 8,
   "id": "0c43db40",
   "metadata": {},
   "outputs": [
    {
     "data": {
      "text/plain": [
       "['alcohol',\n",
       " 'malic_acid',\n",
       " 'ash',\n",
       " 'alcalinity_of_ash',\n",
       " 'magnesium',\n",
       " 'total_phenols',\n",
       " 'flavanoids',\n",
       " 'nonflavanoid_phenols',\n",
       " 'proanthocyanins',\n",
       " 'color_intensity',\n",
       " 'hue',\n",
       " 'od280/od315_of_diluted_wines',\n",
       " 'proline']"
      ]
     },
     "execution_count": 8,
     "metadata": {},
     "output_type": "execute_result"
    }
   ],
   "source": [
    "feature_names"
   ]
  },
  {
   "cell_type": "code",
   "execution_count": 9,
   "id": "595b0c3c",
   "metadata": {},
   "outputs": [
    {
     "name": "stdout",
     "output_type": "stream",
     "text": [
      "{\n",
      "    \"col\": \"color_intensity\",\n",
      "    \"index_col\": 9,\n",
      "    \"cutoff\": 3.52,\n",
      "    \"val\": 1.0,\n",
      "    \"left\": {\n",
      "        \"val\": 1.0\n",
      "    },\n",
      "    \"right\": {\n",
      "        \"col\": \"proline\",\n",
      "        \"index_col\": 12,\n",
      "        \"cutoff\": 845.0,\n",
      "        \"val\": 1.0,\n",
      "        \"left\": {\n",
      "            \"col\": \"flavanoids\",\n",
      "            \"index_col\": 6,\n",
      "            \"cutoff\": 1.25,\n",
      "            \"val\": 2.0,\n",
      "            \"left\": {\n",
      "                \"val\": 2.0\n",
      "            },\n",
      "            \"right\": null\n",
      "        },\n",
      "        \"right\": {\n",
      "            \"val\": 0.0\n",
      "        }\n",
      "    }\n",
      "}\n"
     ]
    }
   ],
   "source": [
    "import json\n",
    "\n",
    "clf = DecisionTreeClassifier()\n",
    "output = clf.fit(X_train, y_train)\n",
    "# output\n",
    "print(json.dumps(output, indent=4))"
   ]
  },
  {
   "cell_type": "code",
   "execution_count": 10,
   "id": "435e75db",
   "metadata": {},
   "outputs": [
    {
     "name": "stdout",
     "output_type": "stream",
     "text": [
      "83.33%\n"
     ]
    }
   ],
   "source": [
    "# 計算準確率\n",
    "y_pred = clf.predict(X_test)\n",
    "print(f'{accuracy_score(y_test, y_pred)*100:.2f}%') "
   ]
  },
  {
   "cell_type": "code",
   "execution_count": null,
   "id": "ea11e72a",
   "metadata": {},
   "outputs": [],
   "source": []
  }
 ],
 "metadata": {
  "kernelspec": {
   "display_name": "Python 3",
   "language": "python",
   "name": "python3"
  },
  "language_info": {
   "codemirror_mode": {
    "name": "ipython",
    "version": 3
   },
   "file_extension": ".py",
   "mimetype": "text/x-python",
   "name": "python",
   "nbconvert_exporter": "python",
   "pygments_lexer": "ipython3",
   "version": "3.9.18"
  }
 },
 "nbformat": 4,
 "nbformat_minor": 5
}
